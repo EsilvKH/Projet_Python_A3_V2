{
 "cells": [
  {
   "attachments": {},
   "cell_type": "markdown",
   "metadata": {},
   "source": [
    "Passe les fichiers en lecture"
   ]
  },
  {
   "cell_type": "code",
   "execution_count": 88,
   "metadata": {},
   "outputs": [
    {
     "name": "stdout",
     "output_type": "stream",
     "text": [
      "File has read permission\n",
      "File has read permission\n",
      "File has read permission\n",
      "File has read permission\n",
      "File has read permission\n"
     ]
    }
   ],
   "source": [
    "\n",
    "\n",
    "import pandas as pd\n",
    "import numpy as np\n",
    "import os\n",
    "import matplotlib.pyplot as plt\n",
    "import datetime\n",
    "\n",
    "file_path_list = [\"C:\\Esilv\\Annee 3\\Semestre 6\\Python\\Valeursfoncieres-2021\\Valeursfoncieres-2018.txt\",\n",
    "                  \"C:\\Esilv\\Annee 3\\Semestre 6\\Python\\Valeursfoncieres-2021\\Valeursfoncieres-2019.txt\",\n",
    "                  \"C:\\Esilv\\Annee 3\\Semestre 6\\Python\\Valeursfoncieres-2021\\Valeursfoncieres-2020.txt\",\n",
    "                  \"C:\\Esilv\\Annee 3\\Semestre 6\\Python\\Valeursfoncieres-2021\\Valeursfoncieres-2021.txt\",\n",
    "                  \"C:\\Esilv\\Annee 3\\Semestre 6\\Python\\Valeursfoncieres-2021\\Valeursfoncieres-2022.txt\"]\n",
    "\n",
    "for i in range(len(file_path_list)):\n",
    "    file_path=file_path_list[i]\n",
    "    if os.access(file_path, os.R_OK):\n",
    "        print('File has read permission')\n",
    "    else:\n",
    "        print('File does not have read permission')\n",
    "    \n",
    "    os.chmod(file_path, 0o400)\n",
    "\n",
    "\n",
    "del file_path, file_path_list"
   ]
  },
  {
   "attachments": {},
   "cell_type": "markdown",
   "metadata": {},
   "source": [
    "Ouvre l'année 2022 du des fichiers de valeurs foncières"
   ]
  },
  {
   "cell_type": "code",
   "execution_count": 89,
   "metadata": {},
   "outputs": [],
   "source": [
    "def load_dataframe(annee):\n",
    "    if(annee == 2018):\n",
    "        dataframe = pd.read_csv(\"C:\\Esilv\\Annee 3\\Semestre 6\\Python\\Valeursfoncieres-2021\\Valeursfoncieres-2018.txt\", sep=\"|\")\n",
    "        return dataframe\n",
    "    if(annee == 2019):\n",
    "        dataframe = pd.read_csv(\"C:\\Esilv\\Annee 3\\Semestre 6\\Python\\Valeursfoncieres-2021\\Valeursfoncieres-2019.txt\", sep=\"|\")\n",
    "        return dataframe\n",
    "    if(annee == 2020):\n",
    "        dataframe = pd.read_csv(\"C:\\Esilv\\Annee 3\\Semestre 6\\Python\\Valeursfoncieres-2021\\Valeursfoncieres-2020.txt\", sep=\"|\")\n",
    "        return dataframe\n",
    "    if(annee == 2021):\n",
    "        dataframe = pd.read_csv(\"C:\\Esilv\\Annee 3\\Semestre 6\\Python\\Valeursfoncieres-2021\\Valeursfoncieres-2021.txt\", sep=\"|\")\n",
    "        return dataframe     \n",
    "    if(annee == 2022):\n",
    "        dataframe = pd.read_csv(\"C:\\Esilv\\Annee 3\\Semestre 6\\Python\\Valeursfoncieres-2021\\Valeursfoncieres-2022.txt\", sep=\"|\")\n",
    "        return dataframe   \n",
    "#dataframe2019 = pd.read_csv(\"C:\\Esilv\\Annee 3\\Semestre 6\\Python\\Valeursfoncieres-2021\\Valeursfoncieres-2019.txt\", sep=\"|\")\n",
    "#dataframe2020 = pd.read_csv(\"C:\\Esilv\\Annee 3\\Semestre 6\\Python\\Valeursfoncieres-2021\\Valeursfoncieres-2020.txt\", sep=\"|\")\n",
    "#dataframe2021 = pd.read_csv(\"C:\\Esilv\\Annee 3\\Semestre 6\\Python\\Valeursfoncieres-2021\\Valeursfoncieres-2021.txt\", sep=\"|\")\n",
    "#dataframe2022 = pd.read_csv(\"C:\\Esilv\\Annee 3\\Semestre 6\\Python\\Valeursfoncieres-2021\\Valeursfoncieres-2022.txt\", sep=\"|\")\n"
   ]
  },
  {
   "attachments": {},
   "cell_type": "markdown",
   "metadata": {},
   "source": [
    "Se débarasse des colonnes inutiles"
   ]
  },
  {
   "cell_type": "code",
   "execution_count": 90,
   "metadata": {},
   "outputs": [],
   "source": [
    "def colonnes_drop(dataframe):\n",
    "    dataframe=dataframe.drop(\n",
    "                    [\"Identifiant de document\",\n",
    "                    \"Reference document\",\n",
    "                    \"1 Articles CGI\",\n",
    "                    \"2 Articles CGI\",\n",
    "                    \"3 Articles CGI\",\n",
    "                    \"4 Articles CGI\",\n",
    "                    \"5 Articles CGI\",\n",
    "                    \"No disposition\",\n",
    "                    \"Code commune\",\n",
    "                    \"Prefixe de section\",\n",
    "                    \"Section\",\n",
    "                    \"No plan\",\n",
    "                    \"No Volume\",\n",
    "                    \"1er lot\",\n",
    "                    \"2eme lot\",\n",
    "                    \"3eme lot\",\n",
    "                    \"4eme lot\",\n",
    "                    \"5eme lot\",\n",
    "                    \"Identifiant local\",\n",
    "                    \"Code voie\"\n",
    "                    ],axis=1)\n",
    "    return dataframe"
   ]
  },
  {
   "attachments": {},
   "cell_type": "markdown",
   "metadata": {},
   "source": [
    "Supprime les valeurs non renseignées dans les colonnes essentielles. On a besoin de la date de la nature et de la valeur foncière."
   ]
  },
  {
   "cell_type": "code",
   "execution_count": 91,
   "metadata": {},
   "outputs": [],
   "source": [
    "\n",
    "\n",
    "def nettoyage_valeurs_essentielles(dataframe):\n",
    "    list_colonnes_utiles=[\"Date mutation\",\"Nature mutation\",\"Valeur fonciere\"]\n",
    "    indexes_to_drop=[]\n",
    "    for nom in list_colonnes_utiles: \n",
    "        indexes_to_drop += list(np.where(pd.isnull(dataframe[nom]))[0])\n",
    "    indexes_to_drop = list(set(indexes_to_drop))  # On supprime les doublons\n",
    "    dataframe = dataframe.drop(indexes_to_drop)\n",
    "    dataframe = dataframe.reset_index(drop=True)\n",
    "    del nom\n",
    "    del indexes_to_drop\n",
    "    del list_colonnes_utiles\n",
    "    return dataframe\n",
    "\n",
    "\n"
   ]
  },
  {
   "attachments": {},
   "cell_type": "markdown",
   "metadata": {},
   "source": [
    "On va maintenant rajouter les colonnes qui nous manquent à cette dataframe"
   ]
  },
  {
   "cell_type": "code",
   "execution_count": 92,
   "metadata": {},
   "outputs": [],
   "source": [
    "fr_departments = {\n",
    "    \"Auvergne-Rhône-Alpes\": [\"1\", \"3\", \"7\", \"15\", \"26\", \"38\", \"42\", \"43\", \"63\", \"69\", \"73\", \"74\"],\n",
    "    \"Bourgogne-Franche-Comté\": [\"21\", \"25\", \"39\", \"58\", \"70\", \"71\", \"89\", \"90\"],\n",
    "    \"Bretagne\": [\"22\", \"29\", \"35\", \"56\"],\n",
    "    \"Centre-Val de Loire\": [\"18\", \"28\", \"36\", \"37\", \"41\", \"45\"],\n",
    "    \"Corse\": [\"2A\", \"2B\"],\n",
    "    \"Grand Est\": [\"8\", \"10\", \"51\", \"52\", \"54\", \"55\", \"57\", \"67\", \"68\", \"88\"],\n",
    "    \"Hauts-de-France\": [\"2\", \"59\", \"60\", \"62\", \"80\"],\n",
    "    \"Île-de-France\": [\"75\", \"77\", \"78\", \"91\", \"92\", \"93\", \"94\", \"95\"],\n",
    "    \"Normandie\": [\"14\", \"27\", \"50\", \"61\", \"76\"],\n",
    "    \"Nouvelle-Aquitaine\": [\"16\", \"17\", \"19\", \"23\", \"24\", \"33\", \"40\", \"47\", \"64\", \"79\", \"86\", \"87\"],\n",
    "    \"Occitanie\": [\"09\", \"11\", \"12\", \"30\", \"31\", \"32\", \"34\", \"46\", \"48\", \"65\", \"66\", \"81\", \"82\"],\n",
    "    \"Pays de la Loire\": [\"44\", \"49\", \"53\", \"72\", \"85\"],\n",
    "    \"Provence-Alpes-Côte d'Azur\": [\"4\", \"5\", \"6\", \"13\", \"83\", \"84\"]\n",
    "}\n",
    "#print(fr_departments)\n",
    "def rajout_region(dataframe,fr_departments):\n",
    "    dataframe[\"Region\"] = np.nan\n",
    "    for i in range(len(dataframe[\"Code departement\"])):\n",
    "        valeurdepartement = dataframe[\"Code departement\"][i]\n",
    "        for j in fr_departments:\n",
    "            if(str(valeurdepartement) in fr_departments[j]):\n",
    "                dataframe[\"Region\"][i] = j\n",
    "                break\n",
    "    print(dataframe[\"Region\"])\n",
    "    del valeurdepartement,j,i\n",
    "    return dataframe\n",
    "#del fr_departments"
   ]
  },
  {
   "attachments": {},
   "cell_type": "markdown",
   "metadata": {},
   "source": [
    "On cherche désormais à déterminer le prix au mètre carré et la surface. On découpe la dataframe entre les entrées comptant plusieurs lots et celles comptant un unique lot."
   ]
  },
  {
   "cell_type": "code",
   "execution_count": 93,
   "metadata": {},
   "outputs": [],
   "source": [
    "\n",
    "\n",
    "\n",
    "#Nettoyage des valeurs non renseignées\n",
    "def nettoyage_split_lot(dataframe):\n",
    "    dataframe_multi_lots = dataframe[dataframe['Nombre de lots'] >= 1]\n",
    "    dataframe_uni_lots = dataframe[dataframe['Nombre de lots'] == 0]\n",
    "    dataframe_multi_lots = dataframe_multi_lots.reset_index(drop=True)\n",
    "    dataframe_uni_lots = dataframe_uni_lots.reset_index(drop=True)\n",
    "    list_index_to_drop=[]\n",
    "    for i in range(len(dataframe_multi_lots)):\n",
    "        if(pd.isnull(dataframe_multi_lots[\"Surface Carrez du 1er lot\"][i])\n",
    "        and pd.isnull(dataframe_multi_lots[\"Surface Carrez du 2eme lot\"][i])\n",
    "        and pd.isnull(dataframe_multi_lots[\"Surface Carrez du 3eme lot\"][i])\n",
    "        and pd.isnull(dataframe_multi_lots[\"Surface Carrez du 4eme lot\"][i])\n",
    "        and pd.isnull(dataframe_multi_lots[\"Surface Carrez du 5eme lot\"][i])):\n",
    "            list_index_to_drop.append(i)\n",
    "    dataframe_multi_lots = dataframe_multi_lots.drop(list_index_to_drop)\n",
    "\n",
    "    list_index_to_drop=[]\n",
    "    for i in range(len(dataframe_uni_lots)):\n",
    "        if(pd.isnull(dataframe_uni_lots[\"Surface reelle bati\"][i])\n",
    "        and pd.isnull(dataframe_uni_lots[\"Surface terrain\"][i])):\n",
    "            list_index_to_drop.append(i)\n",
    "    dataframe_uni_lots = dataframe_uni_lots.drop(list_index_to_drop)\n",
    "\n",
    "    #Après nettoyage il faut reformater les dataframes\n",
    "    dataframe_multi_lots = dataframe_multi_lots.reset_index(drop=True)\n",
    "    dataframe_uni_lots = dataframe_uni_lots.reset_index(drop=True)\n",
    "\n",
    "    surface_multi=[]\n",
    "    list_colonne_multi=[\"Surface Carrez du 1er lot\",\n",
    "                        \"Surface Carrez du 2eme lot\",\n",
    "                        \"Surface Carrez du 3eme lot\",\n",
    "                        \"Surface Carrez du 4eme lot\",\n",
    "                        \"Surface Carrez du 5eme lot\"]\n",
    "    for i in range(len(dataframe_multi_lots)):\n",
    "        surface_totale=0\n",
    "        for colonne in list_colonne_multi:\n",
    "            nombre_str = dataframe_multi_lots[colonne][i]\n",
    "            if(isinstance(nombre_str,str)):\n",
    "                nombre_str=nombre_str.replace(\",\",\".\")\n",
    "            if pd.isna(nombre_str):\n",
    "                surface_totale += 0.0  # Ajouter une valeur nulle pour les valeurs manquantes\n",
    "            else:\n",
    "                surface_totale += float(nombre_str)\n",
    "        surface_multi.append(surface_totale)\n",
    "\n",
    "    surface_uni=[]\n",
    "    list_colonne_uni=[\"Surface reelle bati\",\n",
    "                    \"Surface terrain\"]\n",
    "    for i in range(len(dataframe_uni_lots)):\n",
    "        surface_totale=0\n",
    "        for colonne in list_colonne_uni:\n",
    "            nombre_str = dataframe_uni_lots[colonne][i]\n",
    "            if pd.isna(nombre_str):\n",
    "                surface_totale += 0.0  # Ajouter une valeur nulle pour les valeurs manquantes\n",
    "            else:\n",
    "                surface_totale += float(nombre_str)\n",
    "        surface_uni.append(surface_totale) \n",
    "    \n",
    "    #Rajout des colonnes aux dataframe\n",
    "    dataframe_multi_lots[\"Surface\"]=surface_multi\n",
    "    dataframe_uni_lots[\"Surface\"]=surface_uni\n",
    "    \n",
    "    frames = [dataframe_multi_lots,dataframe_uni_lots]\n",
    "    dataframe=pd.concat(frames)\n",
    "    dataframe = dataframe.reset_index(drop=True)\n",
    "\n",
    "    for i in range(len(dataframe)):\n",
    "        valeur=(dataframe.loc[i, \"Valeur fonciere\"])\n",
    "        if(isinstance(valeur,str)):\n",
    "            valeur=valeur.replace(\",\",\".\")\n",
    "            dataframe.at[i,'Valeur fonciere']=valeur\n",
    "\n",
    "    dataframe[\"Valeur fonciere\"]=dataframe[\"Valeur fonciere\"].astype(float)\n",
    "\n",
    "    #Calcul du prix au metre carre\n",
    "    dataframe[\"Prix metre carre\"]= dataframe[\"Valeur fonciere\"] / dataframe[\"Surface\"]\n",
    "    return dataframe"
   ]
  },
  {
   "attachments": {},
   "cell_type": "markdown",
   "metadata": {},
   "source": [
    "## Conversion des données"
   ]
  },
  {
   "cell_type": "code",
   "execution_count": null,
   "metadata": {},
   "outputs": [],
   "source": [
    "def conversion_dates(dataframe):\n",
    "    dataframe['Date mutation'] = pd.to_datetime(dataframe['Date mutation'])"
   ]
  },
  {
   "attachments": {},
   "cell_type": "markdown",
   "metadata": {},
   "source": [
    "## Exécution du traitement de données :"
   ]
  },
  {
   "cell_type": "code",
   "execution_count": 94,
   "metadata": {},
   "outputs": [
    {
     "name": "stderr",
     "output_type": "stream",
     "text": [
      "C:\\Users\\user\\AppData\\Local\\Temp\\ipykernel_24196\\1479475257.py:3: DtypeWarning: Columns (14,18,23,24,26,28,29,31,32,33,41) have mixed types. Specify dtype option on import or set low_memory=False.\n",
      "  dataframe = pd.read_csv(\"C:\\Esilv\\Annee 3\\Semestre 6\\Python\\Valeursfoncieres-2021\\Valeursfoncieres-2018.txt\", sep=\"|\")\n",
      "C:\\Users\\user\\AppData\\Local\\Temp\\ipykernel_24196\\4117970547.py:23: SettingWithCopyWarning: \n",
      "A value is trying to be set on a copy of a slice from a DataFrame\n",
      "\n",
      "See the caveats in the documentation: https://pandas.pydata.org/pandas-docs/stable/user_guide/indexing.html#returning-a-view-versus-a-copy\n",
      "  dataframe[\"Region\"][i] = j\n"
     ]
    },
    {
     "name": "stdout",
     "output_type": "stream",
     "text": [
      "0          Auvergne-Rhône-Alpes\n",
      "1          Auvergne-Rhône-Alpes\n",
      "2          Auvergne-Rhône-Alpes\n",
      "3          Auvergne-Rhône-Alpes\n",
      "4          Auvergne-Rhône-Alpes\n",
      "                   ...         \n",
      "3303280           Île-de-France\n",
      "3303281           Île-de-France\n",
      "3303282           Île-de-France\n",
      "3303283           Île-de-France\n",
      "3303284           Île-de-France\n",
      "Name: Region, Length: 3303285, dtype: object\n"
     ]
    }
   ],
   "source": [
    "choix_annee_1 = int(input(\"Quelle année souhaitez vous consulter ?\"))\n",
    "dataframe_lecture = load_dataframe(choix_annee_1)\n",
    "dataframe_lecture = colonnes_drop(dataframe_lecture)\n",
    "dataframe_lecture = nettoyage_valeurs_essentielles(dataframe_lecture)\n",
    "dataframe_lecture = rajout_region(dataframe_lecture,fr_departments)\n",
    "#split_lot(dataframe_lecture)\n",
    "dataframe_lecture = nettoyage_split_lot(dataframe_lecture)"
   ]
  },
  {
   "attachments": {},
   "cell_type": "markdown",
   "metadata": {},
   "source": [
    "## Fonctions de filtrage dataframe\n"
   ]
  },
  {
   "cell_type": "code",
   "execution_count": null,
   "metadata": {},
   "outputs": [],
   "source": [
    "def filtre_dataframe_par_date(dataframe, date_debut, date_fin):\n",
    "    mask = (dataframe[\"Date mutation\"] >= date_debut) & (dataframe[\"Date mutation\"] <= date_fin)\n",
    "    dataframe_filtre = dataframe.loc[mask]\n",
    "    return dataframe_filtre\n",
    "\n",
    "def multi_filtre_dataframe(dataframe, colonne, values): #Permet de filtrer la dataframe selon une liste de valeurs d'une colonne\n",
    "    if isinstance(values, list):\n",
    "        # Si la valeur est une liste, filtrer la DataFrame avec la méthode isin\n",
    "        df_filtree = dataframe[dataframe[colonne].isin(values)]\n",
    "    else:\n",
    "        # Si la valeur est une valeur unique, filtrer la DataFrame avec l'opérateur ==\n",
    "        df_filtree = dataframe[dataframe[colonne] == values]\n",
    "    return df_filtree\n",
    "\n",
    "def prix_selon_param(dataframe, colonne, value, ascend): #Filtre et renvoie par ordre croissant ou décroissant la dataframe\n",
    "    df_filtre = multi_filtre_dataframe(dataframe,colonne,value)\n",
    "    if(ascend == True):\n",
    "        df_filtre = df_filtre.sort_values(by=['Prix metre carre'],ascending=True)\n",
    "    else:\n",
    "        df_filtre = df_filtre.sort_values(by=['Prix metre carre'],ascending=False)\n",
    "        \n",
    "    #return df_filtre[['Prix metre carre','Commune','Code departement','Region','Type local','Nature culture', colonne]]\n",
    "    return df_filtre\n",
    "\n",
    "def tranches_de_param(dataframe,colonne,valeur_sup,valeur_inf=None): #Générique de date, renvoie la dataframe sous une tranche d'infos\n",
    "    if(valeur_inf != None):\n",
    "        mask = (dataframe[colonne]>= valeur_inf) & (dataframe[colonne]<= valeur_sup)\n",
    "    else:\n",
    "        mask = (dataframe[colonne]>= valeur_inf)\n",
    "    dataframe_filtre = dataframe.loc[mask]\n",
    "    return dataframe_filtre\n",
    "\n",
    "def affichage_colonnes(dataframe, colonnes_a_virer): #Demande à l'utilisateur quelles colonnes il souhaite afficher\n",
    "    dataframe_retour = dataframe.drop(colonnes_a_virer,axis=1)\n",
    "    return dataframe_retour\n",
    "\n",
    "def occurrences_data(dataframe,colonne,valeur): #Combien de fois apparaît une valeur spécifiée\n",
    "    return dataframe[colonne].value_counts()[valeur]"
   ]
  },
  {
   "attachments": {},
   "cell_type": "markdown",
   "metadata": {},
   "source": [
    "## Fonctions de graphiques"
   ]
  },
  {
   "attachments": {},
   "cell_type": "markdown",
   "metadata": {},
   "source": [
    "Quantité de vente pour une zone donnée"
   ]
  },
  {
   "cell_type": "code",
   "execution_count": null,
   "metadata": {},
   "outputs": [],
   "source": [
    "def ventes_par_region(dataframe,colonne):\n",
    "    ventes_par_region = dataframe[colonne].value_counts()\n",
    "    fig, ax = plt.subplots()\n",
    "    ventes_par_region.plot(kind='bar', ax=ax)\n",
    "    ax.set_title('Nombre de ventes par '+colonne)\n",
    "    ax.set_xlabel(colonne)\n",
    "    ax.set_ylabel('Nombre de ventes')\n",
    "    plt.show()\n",
    "\n",
    "\n",
    "def ventes_par_region_camember(dataframe,colonne):\n",
    "    ventes_par_region = dataframe[colonne].value_counts()\n",
    "    fig, ax = plt.subplots()\n",
    "    ax.pie(ventes_par_region, labels=ventes_par_region.index, autopct='%1.1f%%')\n",
    "    ax.set_title('Répartition des ventes par '+colonne)\n",
    "    plt.show()\n",
    "\n",
    "    "
   ]
  },
  {
   "attachments": {},
   "cell_type": "markdown",
   "metadata": {},
   "source": [
    "Prix moyen par région donnée"
   ]
  },
  {
   "cell_type": "code",
   "execution_count": null,
   "metadata": {},
   "outputs": [],
   "source": []
  },
  {
   "attachments": {},
   "cell_type": "markdown",
   "metadata": {},
   "source": [
    "## Options\n",
    "\n",
    "filtre par date, \n",
    "filtre par valeur d'une région / département / commune, \n",
    "filtre par maximum et minimum de prix, \n",
    "filtre par maximum et minimum de surface, \n",
    "Ordonnancement des ventes par prix croisant ou décroissant du m², \n",
    "\n",
    "## A faire\n",
    "Analyse des transactions immobilières par type de bien\n",
    "Analyse des transactions immobilières par type de bien\n",
    "Analyse des prix de vente par nature de mutation\n",
    "Analyse des prix de vente par surface réelle bâtie\n",
    "Analyse des prix de vente par nombre de pièces principales"
   ]
  },
  {
   "cell_type": "code",
   "execution_count": null,
   "metadata": {},
   "outputs": [],
   "source": []
  }
 ],
 "metadata": {
  "kernelspec": {
   "display_name": "Python 3",
   "language": "python",
   "name": "python3"
  },
  "language_info": {
   "codemirror_mode": {
    "name": "ipython",
    "version": 3
   },
   "file_extension": ".py",
   "mimetype": "text/x-python",
   "name": "python",
   "nbconvert_exporter": "python",
   "pygments_lexer": "ipython3",
   "version": "3.11.3"
  },
  "orig_nbformat": 4
 },
 "nbformat": 4,
 "nbformat_minor": 2
}
